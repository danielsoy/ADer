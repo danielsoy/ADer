{
  "cells": [
    {
      "cell_type": "markdown",
      "metadata": {
        "id": "view-in-github",
        "colab_type": "text"
      },
      "source": [
        "<a href=\"https://colab.research.google.com/github/danielsoy/ADer/blob/main/Copia_de_train_vit_colab_funka.ipynb\" target=\"_parent\"><img src=\"https://colab.research.google.com/assets/colab-badge.svg\" alt=\"Open In Colab\"/></a>"
      ]
    },
    {
      "cell_type": "markdown",
      "metadata": {
        "id": "y34t4nC1vtTJ"
      },
      "source": [
        "GPU Setup and Verification"
      ]
    },
    {
      "cell_type": "code",
      "execution_count": null,
      "metadata": {
        "colab": {
          "base_uri": "https://localhost:8080/"
        },
        "id": "UuU7CIXcvtTP",
        "outputId": "4b33425c-1377-4422-ebff-b41f6fdbe070"
      },
      "outputs": [
        {
          "output_type": "stream",
          "name": "stdout",
          "text": [
            "GPU Available:  [PhysicalDevice(name='/physical_device:GPU:0', device_type='GPU')]\n"
          ]
        }
      ],
      "source": [
        "import tensorflow as tf\n",
        "print(\"GPU Available: \", tf.config.list_physical_devices('GPU'))"
      ]
    },
    {
      "cell_type": "code",
      "execution_count": null,
      "metadata": {
        "id": "dQ23VvNkvtTQ"
      },
      "outputs": [],
      "source": [
        "physical_devices = tf.config.list_physical_devices('GPU')\n",
        "if len(physical_devices) > 0:\n",
        "    tf.config.experimental.set_memory_growth(physical_devices[0], True)"
      ]
    },
    {
      "cell_type": "markdown",
      "metadata": {
        "id": "_OQFnSrRvtTR"
      },
      "source": [
        "GPU Optimizations"
      ]
    },
    {
      "cell_type": "code",
      "execution_count": null,
      "metadata": {
        "id": "fgn3m7W_vtTR"
      },
      "outputs": [],
      "source": [
        "tf.keras.mixed_precision.set_global_policy('mixed_float16')\n",
        "tf.config.optimizer.set_jit(True)"
      ]
    },
    {
      "cell_type": "code",
      "execution_count": null,
      "metadata": {
        "id": "a6R_Uv_5vtTS"
      },
      "outputs": [],
      "source": [
        "import numpy as np\n",
        "from tensorflow.keras import layers\n",
        "import os\n",
        "import cv2\n",
        "from google.colab import drive\n",
        "import pickle\n",
        "from tensorflow.data.experimental import AUTOTUNE"
      ]
    },
    {
      "cell_type": "markdown",
      "metadata": {
        "id": "m9jrv4j_vtTS"
      },
      "source": [
        "[Previous class definitions remain the same]"
      ]
    },
    {
      "cell_type": "code",
      "execution_count": null,
      "metadata": {
        "id": "Bm6ciNuevtTS"
      },
      "outputs": [],
      "source": [
        "class Patches(layers.Layer):\n",
        "    def __init__(self, patch_size):\n",
        "        super().__init__()\n",
        "        self.patch_size = patch_size\n",
        "    def call(self, images):\n",
        "        batch_size = tf.shape(images)[0]\n",
        "        patches = tf.image.extract_patches(\n",
        "            images=images,\n",
        "            sizes=[1, self.patch_size, self.patch_size, 1],\n",
        "            strides=[1, self.patch_size, self.patch_size, 1],\n",
        "            rates=[1, 1, 1, 1],\n",
        "            padding=\"VALID\",\n",
        "        )\n",
        "        patch_dims = patches.shape[-1]\n",
        "        patches = tf.reshape(patches, [batch_size, -1, patch_dims])\n",
        "        return patches"
      ]
    },
    {
      "cell_type": "code",
      "execution_count": null,
      "metadata": {
        "id": "T4YjhZ07vtTS"
      },
      "outputs": [],
      "source": [
        "class PatchEncoder(layers.Layer):\n",
        "    def __init__(self, num_patches, projection_dim):\n",
        "        super().__init__()\n",
        "        self.num_patches = num_patches\n",
        "        self.projection = layers.Dense(units=projection_dim)\n",
        "        self.position_embedding = layers.Embedding(\n",
        "            input_dim=num_patches, output_dim=projection_dim\n",
        "        )\n",
        "    def call(self, patch):\n",
        "        positions = tf.range(start=0, limit=self.num_patches, delta=1)\n",
        "        encoded = self.projection(patch) + self.position_embedding(positions)\n",
        "        return encoded"
      ]
    },
    {
      "cell_type": "markdown",
      "metadata": {
        "id": "Gt7SuUKsvtTT"
      },
      "source": [
        "[Previous create_vit_autoencoder function remains the same]"
      ]
    },
    {
      "cell_type": "code",
      "execution_count": null,
      "metadata": {
        "id": "bBnju4MtvtTT"
      },
      "outputs": [],
      "source": [
        "def create_vit_autoencoder(input_shape, patch_size, projection_dim, num_heads, transformer_layers):\n",
        "    inputs = layers.Input(shape=input_shape)\n",
        "    patches = Patches(patch_size)(inputs)\n",
        "    num_patches = (input_shape[0] // patch_size) ** 2\n",
        "    encoded_patches = PatchEncoder(num_patches, projection_dim)(patches)\n",
        "    for _ in range(transformer_layers):\n",
        "        x1 = layers.LayerNormalization(epsilon=1e-6)(encoded_patches)\n",
        "        attention_output = layers.MultiHeadAttention(\n",
        "            num_heads=num_heads, key_dim=projection_dim, dropout=0.1\n",
        "        )(x1, x1)\n",
        "        x2 = layers.Add()([attention_output, encoded_patches])\n",
        "        x3 = layers.LayerNormalization(epsilon=1e-6)(x2)\n",
        "        x4 = layers.Dense(projection_dim * 2, activation=\"gelu\")(x3)\n",
        "        x4 = layers.Dropout(0.1)(x4)\n",
        "        x4 = layers.Dense(projection_dim)(x4)\n",
        "        encoded_patches = layers.Add()([x4, x2])\n",
        "    x = layers.Dense(patch_size * patch_size * 3)(encoded_patches)\n",
        "    x = layers.Reshape((input_shape[0], input_shape[1], 3))(x)\n",
        "\n",
        "    return tf.keras.Model(inputs, x)"
      ]
    },
    {
      "cell_type": "markdown",
      "metadata": {
        "id": "UXr4RNqzvtTT"
      },
      "source": [
        "Mount Drive"
      ]
    },
    {
      "cell_type": "code",
      "execution_count": null,
      "metadata": {
        "colab": {
          "base_uri": "https://localhost:8080/"
        },
        "id": "HgGOCHOzvtTU",
        "outputId": "ee2f6fd8-981c-4c2b-f260-005587530aa9"
      },
      "outputs": [
        {
          "output_type": "stream",
          "name": "stdout",
          "text": [
            "Mounted at /content/drive\n"
          ]
        }
      ],
      "source": [
        "drive.mount('/content/drive')"
      ]
    },
    {
      "cell_type": "markdown",
      "metadata": {
        "id": "qb7Ib4HIvtTU"
      },
      "source": [
        "Parameters"
      ]
    },
    {
      "cell_type": "code",
      "execution_count": null,
      "metadata": {
        "id": "TtRaLwWvvtTU"
      },
      "outputs": [],
      "source": [
        "max_images = 500 # Testing with 100 images\n",
        "patch_size = 8\n",
        "projection_dim = 128\n",
        "num_heads = 8\n",
        "transformer_layers = 8\n",
        "input_shape = (224, 224, 3)\n",
        "batch_size = 32"
      ]
    },
    {
      "cell_type": "markdown",
      "metadata": {
        "id": "Q2-5JqmqvtTU"
      },
      "source": [
        "Add this function before dataset creation"
      ]
    },
    {
      "cell_type": "code",
      "execution_count": null,
      "metadata": {
        "id": "7YyxKbSLvtTU"
      },
      "outputs": [],
      "source": [
        "def load_and_preprocess_image(path):\n",
        "    img = tf.io.read_file(path)\n",
        "    img = tf.image.decode_jpeg(img, channels=3)\n",
        "    img = tf.image.resize(img, [224, 224])\n",
        "    img = tf.cast(img, tf.float32) / 255.0\n",
        "    return img"
      ]
    },
    {
      "cell_type": "markdown",
      "metadata": {
        "id": "ZOQH18guvtTV"
      },
      "source": [
        "Create and process datasets"
      ]
    },
    {
      "cell_type": "code",
      "execution_count": null,
      "metadata": {
        "id": "oaQp1tr1vtTV"
      },
      "outputs": [],
      "source": [
        "data_folder = '/content/drive/MyDrive/good'\n",
        "image_paths = tf.data.Dataset.list_files(f\"{data_folder}/*.*\")\n",
        "image_paths = image_paths.shuffle(buffer_size=1000).take(max_images)"
      ]
    },
    {
      "cell_type": "markdown",
      "metadata": {
        "id": "a8CpF5vcvtTV"
      },
      "source": [
        "Calculate split sizes"
      ]
    },
    {
      "cell_type": "code",
      "execution_count": null,
      "metadata": {
        "id": "ICX4mQ66vtTV"
      },
      "outputs": [],
      "source": [
        "val_size = int(max_images * 0.1)\n",
        "train_size = max_images - val_size"
      ]
    },
    {
      "cell_type": "markdown",
      "metadata": {
        "id": "YXZWxqMkvtTV"
      },
      "source": [
        "Split and process datasets"
      ]
    },
    {
      "cell_type": "code",
      "execution_count": null,
      "metadata": {
        "id": "zwLE1TWdvtTW"
      },
      "outputs": [],
      "source": [
        "train_ds = image_paths.take(train_size)\n",
        "val_ds = image_paths.skip(train_size)"
      ]
    },
    {
      "cell_type": "code",
      "execution_count": null,
      "metadata": {
        "id": "gCb_OSl9vtTW"
      },
      "outputs": [],
      "source": [
        "train_ds = train_ds.map(load_and_preprocess_image, num_parallel_calls=AUTOTUNE)\n",
        "train_ds = train_ds.cache().shuffle(1000).batch(batch_size).prefetch(AUTOTUNE)"
      ]
    },
    {
      "cell_type": "code",
      "execution_count": null,
      "metadata": {
        "id": "RIwV9mcvvtTW"
      },
      "outputs": [],
      "source": [
        "val_ds = val_ds.map(load_and_preprocess_image, num_parallel_calls=AUTOTUNE)\n",
        "val_ds = val_ds.cache().batch(batch_size).prefetch(AUTOTUNE)"
      ]
    },
    {
      "cell_type": "markdown",
      "metadata": {
        "id": "j4XMaS69vtTW"
      },
      "source": [
        "Create and compile model"
      ]
    },
    {
      "cell_type": "code",
      "execution_count": null,
      "metadata": {
        "id": "bPpz-yPnvtTX"
      },
      "outputs": [],
      "source": [
        "model = create_vit_autoencoder(\n",
        "    input_shape,\n",
        "    patch_size,\n",
        "    projection_dim,\n",
        "    num_heads,\n",
        "    transformer_layers\n",
        ")"
      ]
    },
    {
      "cell_type": "code",
      "execution_count": null,
      "metadata": {
        "id": "byHkCcLsvtTX"
      },
      "outputs": [],
      "source": [
        "optimizer = tf.keras.optimizers.Adam(learning_rate=0.001)\n",
        "optimizer = tf.keras.mixed_precision.LossScaleOptimizer(optimizer)"
      ]
    },
    {
      "cell_type": "code",
      "execution_count": null,
      "metadata": {
        "id": "OGBRbpLNvtTX"
      },
      "outputs": [],
      "source": [
        "model.compile(\n",
        "    optimizer=optimizer,\n",
        "    loss='mse',\n",
        "    metrics=['mae']\n",
        ")"
      ]
    },
    {
      "cell_type": "markdown",
      "metadata": {
        "id": "3pfSogTNvtTX"
      },
      "source": [
        "Process datasets to create input-output pairs"
      ]
    },
    {
      "cell_type": "code",
      "execution_count": null,
      "metadata": {
        "id": "G9B6vsjPvtTX"
      },
      "outputs": [],
      "source": [
        "def prepare_dataset(ds):\n",
        "    return ds.map(lambda x: (x, x))  # Create (input, output) pairs"
      ]
    },
    {
      "cell_type": "code",
      "execution_count": null,
      "metadata": {
        "id": "DMd-u097vtTX"
      },
      "outputs": [],
      "source": [
        "train_ds = prepare_dataset(train_ds)\n",
        "val_ds = prepare_dataset(val_ds)"
      ]
    },
    {
      "cell_type": "markdown",
      "metadata": {
        "id": "sK5AS1VnvtTY"
      },
      "source": [
        "Train the model"
      ]
    },
    {
      "cell_type": "code",
      "execution_count": null,
      "metadata": {
        "colab": {
          "base_uri": "https://localhost:8080/"
        },
        "id": "iNST6U5lvtTY",
        "outputId": "d68ecd5e-ed15-4ee4-bf7d-38a78df7a74c"
      },
      "outputs": [
        {
          "output_type": "stream",
          "name": "stdout",
          "text": [
            "Epoch 1/30\n"
          ]
        }
      ],
      "source": [
        "history = model.fit(\n",
        "    train_ds,\n",
        "    epochs=30,\n",
        "    validation_data=val_ds,\n",
        "    shuffle=True,\n",
        "    verbose=1\n",
        ")"
      ]
    },
    {
      "cell_type": "markdown",
      "metadata": {
        "id": "2XKXWbrXvtTY"
      },
      "source": [
        "Save results"
      ]
    },
    {
      "cell_type": "code",
      "execution_count": null,
      "metadata": {
        "id": "5qzpiR3kvtTY"
      },
      "outputs": [],
      "source": [
        "model.save('/content/drive/MyDrive/pasta_vit_model.keras')\n",
        "with open('/content/drive/MyDrive/training_history.pkl', 'wb') as file:\n",
        "    pickle.dump(history.history, file)"
      ]
    }
  ],
  "metadata": {
    "kernelspec": {
      "display_name": "Python 3",
      "name": "python3"
    },
    "language_info": {
      "codemirror_mode": {
        "name": "ipython",
        "version": 3
      },
      "file_extension": ".py",
      "mimetype": "text/x-python",
      "name": "python",
      "nbconvert_exporter": "python",
      "pygments_lexer": "ipython3",
      "version": "3.6.4"
    },
    "colab": {
      "provenance": [],
      "gpuType": "T4",
      "include_colab_link": true
    },
    "accelerator": "GPU"
  },
  "nbformat": 4,
  "nbformat_minor": 0
}