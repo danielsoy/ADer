{
  "nbformat": 4,
  "nbformat_minor": 0,
  "metadata": {
    "colab": {
      "provenance": [],
      "authorship_tag": "ABX9TyMJ53zkiXF41KkT64QlEm02",
      "include_colab_link": true
    },
    "kernelspec": {
      "name": "python3",
      "display_name": "Python 3"
    },
    "language_info": {
      "name": "python"
    }
  },
  "cells": [
    {
      "cell_type": "markdown",
      "metadata": {
        "id": "view-in-github",
        "colab_type": "text"
      },
      "source": [
        "<a href=\"https://colab.research.google.com/github/danielsoy/ADer/blob/main/ticher%20student.ipynb\" target=\"_parent\"><img src=\"https://colab.research.google.com/assets/colab-badge.svg\" alt=\"Open In Colab\"/></a>"
      ]
    },
    {
      "cell_type": "code",
      "execution_count": null,
      "metadata": {
        "id": "FN_i0GdUgecu"
      },
      "outputs": [],
      "source": []
    },
    {
      "cell_type": "code",
      "source": [
        "!git clone https://github.com/danielsoy/ticher_student.git"
      ],
      "metadata": {
        "colab": {
          "base_uri": "https://localhost:8080/"
        },
        "id": "GvG4gT1vggu-",
        "outputId": "4e66c9d6-fa2a-4d1e-f1b1-089a3b40e7c4"
      },
      "execution_count": 4,
      "outputs": [
        {
          "output_type": "stream",
          "name": "stdout",
          "text": [
            "Cloning into 'ticher_student'...\n",
            "remote: Enumerating objects: 548, done.\u001b[K\n",
            "remote: Total 548 (delta 0), reused 0 (delta 0), pack-reused 548 (from 1)\u001b[K\n",
            "Receiving objects: 100% (548/548), 436.74 MiB | 34.03 MiB/s, done.\n",
            "Resolving deltas: 100% (170/170), done.\n"
          ]
        }
      ]
    },
    {
      "cell_type": "code",
      "source": [
        "cd /content/ticher_student/src/"
      ],
      "metadata": {
        "colab": {
          "base_uri": "https://localhost:8080/"
        },
        "id": "SHUqLr5QilF6",
        "outputId": "95ece5c2-f9fe-42a7-d8d0-317cb3292f61"
      },
      "execution_count": 9,
      "outputs": [
        {
          "output_type": "stream",
          "name": "stdout",
          "text": [
            "/content/ticher_student/src\n"
          ]
        }
      ]
    },
    {
      "cell_type": "code",
      "source": [
        "!python teacher_training.py"
      ],
      "metadata": {
        "colab": {
          "base_uri": "https://localhost:8080/"
        },
        "id": "oPJKVM-oij-b",
        "outputId": "1c5703a6-4724-4edf-f5a8-410ff22134f3"
      },
      "execution_count": 11,
      "outputs": [
        {
          "output_type": "stream",
          "name": "stdout",
          "text": [
            "Traceback (most recent call last):\n",
            "  File \"/content/ticher_student/src/teacher_training.py\", line 9, in <module>\n",
            "    from AnomalyNet import AnomalyNet\n",
            "  File \"/content/ticher_student/src/AnomalyNet.py\", line 2, in <module>\n",
            "    import pytorch_lightning as pl\n",
            "ModuleNotFoundError: No module named 'pytorch_lightning'\n"
          ]
        }
      ]
    }
  ]
}