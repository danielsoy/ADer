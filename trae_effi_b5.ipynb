{
  "cells": [
    {
      "cell_type": "markdown",
      "metadata": {
        "id": "view-in-github",
        "colab_type": "text"
      },
      "source": [
        "<a href=\"https://colab.research.google.com/github/danielsoy/ADer/blob/main/trae_effi_b5.ipynb\" target=\"_parent\"><img src=\"https://colab.research.google.com/assets/colab-badge.svg\" alt=\"Open In Colab\"/></a>"
      ]
    },
    {
      "cell_type": "code",
      "execution_count": 1,
      "metadata": {
        "id": "JSkzBGDHl9e9"
      },
      "outputs": [],
      "source": [
        "import tensorflow as tf\n",
        "from tensorflow.keras import layers, Model\n",
        "from tensorflow.keras.applications import EfficientNetB5\n",
        "from tensorflow.keras.callbacks import EarlyStopping, ModelCheckpoint, TensorBoard\n",
        "import matplotlib.pyplot as plt\n",
        "import numpy as np\n",
        "import cv2\n",
        "import os\n",
        "import time"
      ]
    },
    {
      "cell_type": "markdown",
      "metadata": {
        "id": "4zoPMTe6l9e-"
      },
      "source": [
        "Parameters that need to be defined before the choice<br>\n",
        "Add max images parameter at the top with other parameters"
      ]
    },
    {
      "cell_type": "code",
      "execution_count": 2,
      "metadata": {
        "id": "ip5YyR3il9e_"
      },
      "outputs": [],
      "source": [
        "IMG_SIZE = 224\n",
        "EPOCHS = 30\n",
        "MAX_IMAGES = 1000  # Limit number of images to load"
      ]
    },
    {
      "cell_type": "markdown",
      "metadata": {
        "id": "JerTKtw2l9fA"
      },
      "source": [
        "Modify load_data function"
      ]
    },
    {
      "cell_type": "code",
      "execution_count": 3,
      "metadata": {
        "id": "RAutBNPll9fA"
      },
      "outputs": [],
      "source": [
        "def load_data():\n",
        "    images = []\n",
        "    for filename in os.listdir(DATA_PATH)[:MAX_IMAGES]:  # Limit images\n",
        "        if filename.endswith(('.jpg', '.jpeg', '.png')):\n",
        "            img_path = os.path.join(DATA_PATH, filename)\n",
        "            img = cv2.imread(img_path)\n",
        "            img = cv2.cvtColor(img, cv2.COLOR_BGR2RGB)\n",
        "            img = cv2.resize(img, (IMG_SIZE, IMG_SIZE))\n",
        "            img = img.astype('float32') / 255.\n",
        "            images.append(img)\n",
        "            if len(images) >= MAX_IMAGES:  # Double check limit\n",
        "                break\n",
        "    return np.array(images)\n",
        "SAVE_PATH = ''\n",
        "DATA_PATH = ''\n",
        "BATCH_SIZE = 16"
      ]
    },
    {
      "cell_type": "markdown",
      "metadata": {
        "id": "DqnMvNEgl9fA"
      },
      "source": [
        "Set environment (1: Local CPU, 2: Colab GPU)"
      ]
    },
    {
      "cell_type": "code",
      "execution_count": 4,
      "metadata": {
        "id": "7sHjLDaTl9fB"
      },
      "outputs": [],
      "source": [
        "choice = \"2\"  # Hardcoded choice for local CPU training"
      ]
    },
    {
      "cell_type": "code",
      "execution_count": 5,
      "metadata": {
        "colab": {
          "base_uri": "https://localhost:8080/"
        },
        "id": "0Hbb6enfl9fB",
        "outputId": "1ab2b73a-efe4-4dde-91ae-3bfcb39e49df"
      },
      "outputs": [
        {
          "output_type": "stream",
          "name": "stdout",
          "text": [
            "Mounted at /content/drive\n"
          ]
        }
      ],
      "source": [
        "if choice == \"2\":\n",
        "    from google.colab import drive\n",
        "    drive.mount('/content/drive')\n",
        "    DATA_PATH = '/content/drive/MyDrive/good'\n",
        "    SAVE_PATH = '/content/drive/MyDrive'\n",
        "else:\n",
        "    DATA_PATH = 'c:\\\\Users\\\\libro\\\\OneDrive\\\\Escritorio\\\\treads\\\\good'\n",
        "    SAVE_PATH = 'c:\\\\Users\\\\libro\\\\OneDrive\\\\Escritorio\\\\treads'\n",
        "    BATCH_SIZE = 8  # Smaller batch size for CPU\n",
        "    tf.config.set_soft_device_placement(True)\n",
        "def create_model():\n",
        "    # Base EfficientNetB5 model\n",
        "    base_model = EfficientNetB5(\n",
        "        include_top=False,\n",
        "        weights='imagenet',\n",
        "        input_shape=(IMG_SIZE, IMG_SIZE, 3)\n",
        "    )\n",
        "\n",
        "    # Partial fine-tuning: unfreeze last layers\n",
        "    base_model.trainable = True\n",
        "    for layer in base_model.layers[:-30]:  # Freeze all except last 30 layers\n",
        "        layer.trainable = False\n",
        "\n",
        "    # Create encoder-decoder architecture\n",
        "    inputs = layers.Input(shape=(IMG_SIZE, IMG_SIZE, 3))\n",
        "    x = base_model(inputs)\n",
        "\n",
        "    # Encoder additional layers with dropout for better generalization\n",
        "    x = layers.GlobalAveragePooling2D()(x)\n",
        "    x = layers.Dropout(0.3)(x)  # Add dropout to prevent overfitting\n",
        "    x = layers.Dense(1024, activation='relu')(x)\n",
        "    x = layers.Dropout(0.3)(x)\n",
        "    encoded = layers.Dense(512, activation='relu', name='encoder_output')(x)\n",
        "\n",
        "    # Decoder layers\n",
        "    x = layers.Dense(1024, activation='relu')(encoded)\n",
        "    x = layers.Dense(IMG_SIZE * IMG_SIZE * 3, activation='sigmoid')(x)\n",
        "    outputs = layers.Reshape((IMG_SIZE, IMG_SIZE, 3))(x)\n",
        "\n",
        "    return Model(inputs, outputs)\n",
        "# Remove the first load_data function and keep only this version\n",
        "def load_data():\n",
        "    images = []\n",
        "    file_list = sorted(os.listdir(DATA_PATH))[:MAX_IMAGES]  # Limit and sort files\n",
        "    print(f\"Loading up to {MAX_IMAGES} images...\")\n",
        "\n",
        "    for filename in file_list:\n",
        "        if filename.endswith(('.jpg', '.jpeg', '.png')):\n",
        "            img_path = os.path.join(DATA_PATH, filename)\n",
        "            img = cv2.imread(img_path)\n",
        "            img = cv2.cvtColor(img, cv2.COLOR_BGR2RGB)\n",
        "            img = cv2.resize(img, (IMG_SIZE, IMG_SIZE))\n",
        "            img = img.astype('float32') / 255.\n",
        "            images.append(img)\n",
        "            if len(images) >= MAX_IMAGES:\n",
        "                break\n",
        "\n",
        "    print(f\"Actually loaded: {len(images)} images\")\n",
        "    return np.array(images)\n",
        "# Set up GPU\n",
        "physical_devices = tf.config.list_physical_devices('GPU')\n",
        "if physical_devices:\n",
        "    tf.config.experimental.set_memory_growth(physical_devices[0], True)"
      ]
    },
    {
      "cell_type": "markdown",
      "metadata": {
        "id": "k4r7II8Gl9fB"
      },
      "source": [
        "Load data"
      ]
    },
    {
      "cell_type": "code",
      "execution_count": 6,
      "metadata": {
        "colab": {
          "base_uri": "https://localhost:8080/"
        },
        "id": "a32a0TNKl9fB",
        "outputId": "0cc69bde-1c9e-4679-9d88-d8743defae2e"
      },
      "outputs": [
        {
          "output_type": "stream",
          "name": "stdout",
          "text": [
            "Loading data...\n",
            "Loading up to 1000 images...\n",
            "Actually loaded: 1000 images\n",
            "Loaded 1000 images\n"
          ]
        }
      ],
      "source": [
        "print(\"Loading data...\")\n",
        "x_train = load_data()\n",
        "print(f\"Loaded {len(x_train)} images\")"
      ]
    },
    {
      "cell_type": "markdown",
      "metadata": {
        "id": "tiqs1s0Dl9fC"
      },
      "source": [
        "After setting DATA_PATH and SAVE_PATH, add:"
      ]
    },
    {
      "cell_type": "code",
      "execution_count": 7,
      "metadata": {
        "id": "7o7KGuXml9fC"
      },
      "outputs": [],
      "source": [
        "checkpoint_dir = os.path.join(SAVE_PATH, 'checkpoints')\n",
        "if not os.path.exists(checkpoint_dir):\n",
        "    os.makedirs(checkpoint_dir)"
      ]
    },
    {
      "cell_type": "markdown",
      "metadata": {
        "id": "-_On1oB3l9fC"
      },
      "source": [
        "Create and compile model"
      ]
    },
    {
      "cell_type": "code",
      "execution_count": 8,
      "metadata": {
        "colab": {
          "base_uri": "https://localhost:8080/"
        },
        "id": "e7PJXhoil9fC",
        "outputId": "d675b553-1bbf-494c-bdca-395a4ae3f54d"
      },
      "outputs": [
        {
          "output_type": "stream",
          "name": "stdout",
          "text": [
            "Downloading data from https://storage.googleapis.com/keras-applications/efficientnetb5_notop.h5\n",
            "\u001b[1m115263384/115263384\u001b[0m \u001b[32m━━━━━━━━━━━━━━━━━━━━\u001b[0m\u001b[37m\u001b[0m \u001b[1m6s\u001b[0m 0us/step\n"
          ]
        }
      ],
      "source": [
        "model = create_model()\n",
        "model.compile(\n",
        "    optimizer='adam',\n",
        "    loss='mse',\n",
        "    metrics=['mae']\n",
        ")"
      ]
    },
    {
      "cell_type": "markdown",
      "metadata": {
        "id": "66eY_XeDl9fC"
      },
      "source": [
        "Add callbacks with fixed path"
      ]
    },
    {
      "cell_type": "code",
      "execution_count": 9,
      "metadata": {
        "id": "tUmo31rWl9fC"
      },
      "outputs": [],
      "source": [
        "callbacks = [\n",
        "    EarlyStopping(monitor='val_loss', patience=5, restore_best_weights=True),\n",
        "    ModelCheckpoint(\n",
        "        os.path.join(checkpoint_dir, 'model_{epoch:02d}.keras'),\n",
        "        save_best_only=True,\n",
        "        monitor='val_loss'\n",
        "    ),\n",
        "    TensorBoard(log_dir=os.path.join(SAVE_PATH, 'logs/fit/' + time.strftime('%Y%m%d-%H%M%S')))\n",
        "]"
      ]
    },
    {
      "cell_type": "markdown",
      "metadata": {
        "id": "fNo_XgOWl9fC"
      },
      "source": [
        "Modified training section"
      ]
    },
    {
      "cell_type": "code",
      "execution_count": 10,
      "metadata": {
        "colab": {
          "base_uri": "https://localhost:8080/"
        },
        "id": "50jQMKRyl9fC",
        "outputId": "31464904-0d8e-4d93-92cf-0c237f8e29e2"
      },
      "outputs": [
        {
          "output_type": "stream",
          "name": "stdout",
          "text": [
            "Epoch 1/30\n",
            "\u001b[1m57/57\u001b[0m \u001b[32m━━━━━━━━━━━━━━━━━━━━\u001b[0m\u001b[37m\u001b[0m \u001b[1m205s\u001b[0m 2s/step - loss: 0.0778 - mae: 0.1841 - val_loss: 0.0112 - val_mae: 0.0397\n",
            "Epoch 2/30\n",
            "\u001b[1m57/57\u001b[0m \u001b[32m━━━━━━━━━━━━━━━━━━━━\u001b[0m\u001b[37m\u001b[0m \u001b[1m39s\u001b[0m 138ms/step - loss: 0.0103 - mae: 0.0432 - val_loss: 0.0115 - val_mae: 0.0386\n",
            "Epoch 3/30\n",
            "\u001b[1m57/57\u001b[0m \u001b[32m━━━━━━━━━━━━━━━━━━━━\u001b[0m\u001b[37m\u001b[0m \u001b[1m52s\u001b[0m 891ms/step - loss: 0.0101 - mae: 0.0423 - val_loss: 0.0106 - val_mae: 0.0411\n",
            "Epoch 4/30\n",
            "\u001b[1m57/57\u001b[0m \u001b[32m━━━━━━━━━━━━━━━━━━━━\u001b[0m\u001b[37m\u001b[0m \u001b[1m40s\u001b[0m 147ms/step - loss: 0.0099 - mae: 0.0424 - val_loss: 0.0111 - val_mae: 0.0404\n",
            "Epoch 5/30\n",
            "\u001b[1m57/57\u001b[0m \u001b[32m━━━━━━━━━━━━━━━━━━━━\u001b[0m\u001b[37m\u001b[0m \u001b[1m10s\u001b[0m 135ms/step - loss: 0.0101 - mae: 0.0432 - val_loss: 0.0112 - val_mae: 0.0565\n",
            "Epoch 6/30\n",
            "\u001b[1m57/57\u001b[0m \u001b[32m━━━━━━━━━━━━━━━━━━━━\u001b[0m\u001b[37m\u001b[0m \u001b[1m81s\u001b[0m 1s/step - loss: 0.0099 - mae: 0.0434 - val_loss: 0.0106 - val_mae: 0.0464\n",
            "Epoch 7/30\n",
            "\u001b[1m57/57\u001b[0m \u001b[32m━━━━━━━━━━━━━━━━━━━━\u001b[0m\u001b[37m\u001b[0m \u001b[1m12s\u001b[0m 137ms/step - loss: 0.0097 - mae: 0.0420 - val_loss: 0.0108 - val_mae: 0.0531\n",
            "Epoch 8/30\n",
            "\u001b[1m57/57\u001b[0m \u001b[32m━━━━━━━━━━━━━━━━━━━━\u001b[0m\u001b[37m\u001b[0m \u001b[1m11s\u001b[0m 144ms/step - loss: 0.0098 - mae: 0.0428 - val_loss: 0.0114 - val_mae: 0.0434\n",
            "Epoch 9/30\n",
            "\u001b[1m57/57\u001b[0m \u001b[32m━━━━━━━━━━━━━━━━━━━━\u001b[0m\u001b[37m\u001b[0m \u001b[1m129s\u001b[0m 2s/step - loss: 0.0101 - mae: 0.0441 - val_loss: 0.0105 - val_mae: 0.0443\n",
            "Epoch 10/30\n",
            "\u001b[1m57/57\u001b[0m \u001b[32m━━━━━━━━━━━━━━━━━━━━\u001b[0m\u001b[37m\u001b[0m \u001b[1m115s\u001b[0m 2s/step - loss: 0.0100 - mae: 0.0430 - val_loss: 0.0105 - val_mae: 0.0437\n",
            "Epoch 11/30\n",
            "\u001b[1m57/57\u001b[0m \u001b[32m━━━━━━━━━━━━━━━━━━━━\u001b[0m\u001b[37m\u001b[0m \u001b[1m154s\u001b[0m 2s/step - loss: 0.0101 - mae: 0.0442 - val_loss: 0.0095 - val_mae: 0.0372\n",
            "Epoch 12/30\n",
            "\u001b[1m57/57\u001b[0m \u001b[32m━━━━━━━━━━━━━━━━━━━━\u001b[0m\u001b[37m\u001b[0m \u001b[1m38s\u001b[0m 139ms/step - loss: 0.0097 - mae: 0.0417 - val_loss: 0.0110 - val_mae: 0.0419\n",
            "Epoch 13/30\n",
            "\u001b[1m57/57\u001b[0m \u001b[32m━━━━━━━━━━━━━━━━━━━━\u001b[0m\u001b[37m\u001b[0m \u001b[1m128s\u001b[0m 2s/step - loss: 0.0097 - mae: 0.0411 - val_loss: 0.0094 - val_mae: 0.0401\n",
            "Epoch 14/30\n",
            "\u001b[1m57/57\u001b[0m \u001b[32m━━━━━━━━━━━━━━━━━━━━\u001b[0m\u001b[37m\u001b[0m \u001b[1m21s\u001b[0m 136ms/step - loss: 0.0093 - mae: 0.0408 - val_loss: 0.0098 - val_mae: 0.0405\n",
            "Epoch 15/30\n",
            "\u001b[1m57/57\u001b[0m \u001b[32m━━━━━━━━━━━━━━━━━━━━\u001b[0m\u001b[37m\u001b[0m \u001b[1m10s\u001b[0m 131ms/step - loss: 0.0092 - mae: 0.0401 - val_loss: 0.0097 - val_mae: 0.0446\n",
            "Epoch 16/30\n",
            "\u001b[1m57/57\u001b[0m \u001b[32m━━━━━━━━━━━━━━━━━━━━\u001b[0m\u001b[37m\u001b[0m \u001b[1m10s\u001b[0m 134ms/step - loss: 0.0096 - mae: 0.0421 - val_loss: 0.0097 - val_mae: 0.0419\n",
            "Epoch 17/30\n",
            "\u001b[1m57/57\u001b[0m \u001b[32m━━━━━━━━━━━━━━━━━━━━\u001b[0m\u001b[37m\u001b[0m \u001b[1m10s\u001b[0m 132ms/step - loss: 0.0094 - mae: 0.0415 - val_loss: 0.0097 - val_mae: 0.0464\n",
            "Epoch 18/30\n",
            "\u001b[1m57/57\u001b[0m \u001b[32m━━━━━━━━━━━━━━━━━━━━\u001b[0m\u001b[37m\u001b[0m \u001b[1m10s\u001b[0m 131ms/step - loss: 0.0093 - mae: 0.0406 - val_loss: 0.0094 - val_mae: 0.0416\n"
          ]
        }
      ],
      "source": [
        "history = model.fit(\n",
        "    x_train,\n",
        "    x_train,\n",
        "    batch_size=BATCH_SIZE,\n",
        "    epochs=EPOCHS,\n",
        "    validation_split=0.1,\n",
        "    shuffle=True,\n",
        "    callbacks=callbacks,\n",
        "    verbose=1\n",
        ")"
      ]
    },
    {
      "cell_type": "markdown",
      "metadata": {
        "id": "vCoMf6wUl9fD"
      },
      "source": [
        "Add training visualization"
      ]
    },
    {
      "cell_type": "code",
      "execution_count": 11,
      "metadata": {
        "colab": {
          "base_uri": "https://localhost:8080/",
          "height": 428
        },
        "id": "Xg6H2vG1l9fD",
        "outputId": "7a935e31-e9ca-4355-900a-c674868146bd"
      },
      "outputs": [
        {
          "output_type": "execute_result",
          "data": {
            "text/plain": [
              "<matplotlib.legend.Legend at 0x7da71dec1ad0>"
            ]
          },
          "metadata": {},
          "execution_count": 11
        },
        {
          "output_type": "display_data",
          "data": {
            "text/plain": [
              "<Figure size 1200x400 with 1 Axes>"
            ],
            "image/png": "[encoded data removed]"
          },
          "metadata": {}
        }
      ],
      "source": [
        "plt.figure(figsize=(12, 4))\n",
        "plt.subplot(1, 2, 1)\n",
        "plt.plot(history.history['loss'], label='Training Loss')\n",
        "plt.plot(history.history['val_loss'], label='Validation Loss')\n",
        "plt.title('Model Loss')\n",
        "plt.xlabel('Epoch')\n",
        "plt.ylabel('Loss')\n",
        "plt.legend()"
      ]
    },
    {
      "cell_type": "code",
      "execution_count": 12,
      "metadata": {
        "colab": {
          "base_uri": "https://localhost:8080/",
          "height": 490
        },
        "id": "l8Qdohs0l9fD",
        "outputId": "4796c519-7c50-4a67-bad0-620a400d7916"
      },
      "outputs": [
        {
          "output_type": "execute_result",
          "data": {
            "text/plain": [
              "<matplotlib.legend.Legend at 0x7da71dee8e10>"
            ]
          },
          "metadata": {},
          "execution_count": 12
        },
        {
          "output_type": "display_data",
          "data": {
            "text/plain": [
              "<Figure size 640x480 with 1 Axes>"
            ],
            "image/png": "[encoded data removed]"
          },
          "metadata": {}
        }
      ],
      "source": [
        "plt.subplot(1, 2, 2)\n",
        "plt.plot(history.history['mae'], label='Training MAE')\n",
        "plt.plot(history.history['val_mae'], label='Validation MAE')\n",
        "plt.title('Model MAE')\n",
        "plt.xlabel('Epoch')\n",
        "plt.ylabel('MAE')\n",
        "plt.legend()"
      ]
    },
    {
      "cell_type": "code",
      "execution_count": 13,
      "metadata": {
        "id": "G85yj2bLl9fD"
      },
      "outputs": [],
      "source": [
        "plt.tight_layout()\n",
        "plt.savefig(os.path.join(SAVE_PATH, 'training_metrics.png'))\n",
        "plt.close()"
      ]
    },
    {
      "cell_type": "markdown",
      "metadata": {
        "id": "tsKB3m4Jl9fD"
      },
      "source": [
        "Save model and history<br>\n",
        "Modified save paths"
      ]
    },
    {
      "cell_type": "code",
      "execution_count": 23,
      "metadata": {
        "id": "yok6ehwYl9fD"
      },
      "outputs": [],
      "source": [
        "model.save(os.path.join(SAVE_PATH, 'efficientnet_anomaly_model.keras'))\n",
        "np.save(os.path.join(SAVE_PATH, 'training_history.npy'), history.history)"
      ]
    },
    {
      "cell_type": "code",
      "execution_count": 15,
      "metadata": {
        "colab": {
          "base_uri": "https://localhost:8080/"
        },
        "id": "7hx6a6lil9fD",
        "outputId": "d07e2a37-2891-4852-82ae-4e52638f9735"
      },
      "outputs": [
        {
          "output_type": "stream",
          "name": "stdout",
          "text": [
            "Training completed and model saved!\n"
          ]
        }
      ],
      "source": [
        "print(\"Training completed and model saved!\")"
      ]
    }
  ],
  "metadata": {
    "kernelspec": {
      "display_name": "Python 3",
      "name": "python3"
    },
    "language_info": {
      "codemirror_mode": {
        "name": "ipython",
        "version": 3
      },
      "file_extension": ".py",
      "mimetype": "text/x-python",
      "name": "python",
      "nbconvert_exporter": "python",
      "pygments_lexer": "ipython3",
      "version": "3.6.4"
    },
    "colab": {
      "provenance": [],
      "gpuType": "T4",
      "include_colab_link": true
    },
    "accelerator": "GPU"
  },
  "nbformat": 4,
  "nbformat_minor": 0
}