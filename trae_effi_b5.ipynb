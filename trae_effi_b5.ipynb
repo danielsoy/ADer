{
  "cells": [
    {
      "cell_type": "markdown",
      "metadata": {
        "id": "view-in-github",
        "colab_type": "text"
      },
      "source": [
        "<a href=\"https://colab.research.google.com/github/danielsoy/ADer/blob/main/trae_effi_b5.ipynb\" target=\"_parent\"><img src=\"https://colab.research.google.com/assets/colab-badge.svg\" alt=\"Open In Colab\"/></a>"
      ]
    },
    {
      "cell_type": "code",
      "execution_count": null,
      "metadata": {
        "id": "_-0IPloVPxlA"
      },
      "outputs": [],
      "source": [
        "import tensorflow as tf\n",
        "from tensorflow.keras import layers, Model\n",
        "from tensorflow.keras.applications import EfficientNetB5\n",
        "from tensorflow.keras.callbacks import EarlyStopping, ModelCheckpoint, TensorBoard\n",
        "import matplotlib.pyplot as plt\n",
        "import numpy as np\n",
        "import cv2\n",
        "import os\n",
        "import time"
      ]
    },
    {
      "cell_type": "markdown",
      "metadata": {
        "id": "shw9CW_5PxlC"
      },
      "source": [
        "Parameters that need to be defined before the choice"
      ]
    },
    {
      "cell_type": "code",
      "execution_count": null,
      "metadata": {
        "id": "H7rlcC3SPxlD"
      },
      "outputs": [],
      "source": [
        "IMG_SIZE = 224\n",
        "EPOCHS = 30\n",
        "SAVE_PATH = ''\n",
        "DATA_PATH = ''\n",
        "BATCH_SIZE = 16"
      ]
    },
    {
      "cell_type": "markdown",
      "metadata": {
        "id": "Za1fEX-QPxlD"
      },
      "source": [
        "Set environment (1: Local CPU, 2: Colab GPU)"
      ]
    },
    {
      "cell_type": "code",
      "execution_count": null,
      "metadata": {
        "id": "gQcw290iPxlD"
      },
      "outputs": [],
      "source": [
        "choice = \"2\"  # Hardcoded choice for local GPU training"
      ]
    },
    {
      "cell_type": "code",
      "execution_count": null,
      "metadata": {
        "id": "jzWSuHrqPxlD"
      },
      "outputs": [],
      "source": [
        "if choice == \"2\":\n",
        "    from google.colab import drive\n",
        "    drive.mount('/content/drive')\n",
        "    DATA_PATH = '/content/drive/MyDrive/good'\n",
        "    SAVE_PATH = '/content/drive/MyDrive'\n",
        "else:\n",
        "    DATA_PATH = 'c:\\\\Users\\\\libro\\\\OneDrive\\\\Escritorio\\\\treads\\\\good'\n",
        "    SAVE_PATH = 'c:\\\\Users\\\\libro\\\\OneDrive\\\\Escritorio\\\\treads'\n",
        "    BATCH_SIZE = 8  # Smaller batch size for CPU\n",
        "    tf.config.set_soft_device_placement(True)"
      ]
    },
    {
      "cell_type": "code",
      "execution_count": null,
      "metadata": {
        "id": "GVuF6ilePxlD"
      },
      "outputs": [],
      "source": [
        "def create_model():\n",
        "    # Base EfficientNetB5 model\n",
        "    base_model = EfficientNetB5(\n",
        "        include_top=False,\n",
        "        weights='imagenet',\n",
        "        input_shape=(IMG_SIZE, IMG_SIZE, 3)\n",
        "    )\n",
        "\n",
        "    # Freeze base model\n",
        "    base_model.trainable = False\n",
        "\n",
        "    # Create encoder-decoder architecture\n",
        "    inputs = layers.Input(shape=(IMG_SIZE, IMG_SIZE, 3))\n",
        "    x = base_model(inputs)\n",
        "\n",
        "    # Encoder additional layers\n",
        "    x = layers.GlobalAveragePooling2D()(x)\n",
        "    x = layers.Dense(1024, activation='relu')(x)\n",
        "    encoded = layers.Dense(512, activation='relu', name='encoder_output')(x)\n",
        "\n",
        "    # Decoder layers\n",
        "    x = layers.Dense(1024, activation='relu')(encoded)\n",
        "    x = layers.Dense(IMG_SIZE * IMG_SIZE * 3, activation='sigmoid')(x)\n",
        "    outputs = layers.Reshape((IMG_SIZE, IMG_SIZE, 3))(x)\n",
        "\n",
        "    return Model(inputs, outputs)"
      ]
    },
    {
      "cell_type": "markdown",
      "metadata": {
        "id": "cEK8ebR3PxlE"
      },
      "source": [
        "Load and preprocess data"
      ]
    },
    {
      "cell_type": "code",
      "execution_count": null,
      "metadata": {
        "id": "_kKn4DXuPxlE"
      },
      "outputs": [],
      "source": [
        "def load_data():\n",
        "    images = []\n",
        "    for filename in os.listdir(DATA_PATH):\n",
        "        if filename.endswith(('.jpg', '.jpeg', '.png')):\n",
        "            img_path = os.path.join(DATA_PATH, filename)\n",
        "            img = cv2.imread(img_path)\n",
        "            img = cv2.cvtColor(img, cv2.COLOR_BGR2RGB)\n",
        "            img = cv2.resize(img, (IMG_SIZE, IMG_SIZE))\n",
        "            img = img.astype('float32') / 255.\n",
        "            images.append(img)\n",
        "    return np.array(images)"
      ]
    },
    {
      "cell_type": "markdown",
      "metadata": {
        "id": "zLFhqtxwPxlE"
      },
      "source": [
        "Set up GPU"
      ]
    },
    {
      "cell_type": "code",
      "execution_count": null,
      "metadata": {
        "id": "hH3jcZqRPxlE"
      },
      "outputs": [],
      "source": [
        "physical_devices = tf.config.list_physical_devices('GPU')\n",
        "if physical_devices:\n",
        "    tf.config.experimental.set_memory_growth(physical_devices[0], True)"
      ]
    },
    {
      "cell_type": "markdown",
      "metadata": {
        "id": "yhfYjfG_PxlE"
      },
      "source": [
        "Load data"
      ]
    },
    {
      "cell_type": "code",
      "execution_count": null,
      "metadata": {
        "id": "dBKQoYSGPxlE"
      },
      "outputs": [],
      "source": [
        "print(\"Loading data...\")\n",
        "x_train = load_data()\n",
        "print(f\"Loaded {len(x_train)} images\")"
      ]
    },
    {
      "cell_type": "markdown",
      "metadata": {
        "id": "p6be05nmPxlE"
      },
      "source": [
        "Create and compile model"
      ]
    },
    {
      "cell_type": "code",
      "execution_count": null,
      "metadata": {
        "id": "J_l8MtryPxlE"
      },
      "outputs": [],
      "source": [
        "model = create_model()\n",
        "model.compile(\n",
        "    optimizer='adam',\n",
        "    loss='mse',\n",
        "    metrics=['mae']\n",
        ")"
      ]
    },
    {
      "cell_type": "markdown",
      "metadata": {
        "id": "shoklALpPxlF"
      },
      "source": [
        "Train model<br>\n",
        "Add callbacks"
      ]
    },
    {
      "cell_type": "code",
      "execution_count": null,
      "metadata": {
        "id": "KJJWe0GLPxlF"
      },
      "outputs": [],
      "source": [
        "callbacks = [\n",
        "    EarlyStopping(monitor='val_loss', patience=5, restore_best_weights=True),\n",
        "    ModelCheckpoint(\n",
        "        os.path.join(SAVE_PATH, 'checkpoints/model_{epoch:02d}.keras'),\n",
        "        save_best_only=True,\n",
        "        monitor='val_loss'\n",
        "    ),\n",
        "    TensorBoard(log_dir=os.path.join(SAVE_PATH, 'logs/fit/' + time.strftime('%Y%m%d-%H%M%S')))\n",
        "]"
      ]
    },
    {
      "cell_type": "markdown",
      "metadata": {
        "id": "dn_jzA0yPxlF"
      },
      "source": [
        "Modified training section"
      ]
    },
    {
      "cell_type": "code",
      "execution_count": null,
      "metadata": {
        "id": "5KR2ZHHHPxlF"
      },
      "outputs": [],
      "source": [
        "history = model.fit(\n",
        "    x_train,\n",
        "    x_train,\n",
        "    batch_size=BATCH_SIZE,\n",
        "    epochs=EPOCHS,\n",
        "    validation_split=0.1,\n",
        "    shuffle=True,\n",
        "    callbacks=callbacks,\n",
        "    verbose=1\n",
        ")"
      ]
    },
    {
      "cell_type": "markdown",
      "metadata": {
        "id": "-vspPhOdPxlF"
      },
      "source": [
        "Add training visualization"
      ]
    },
    {
      "cell_type": "code",
      "execution_count": null,
      "metadata": {
        "id": "Y2VgeqNEPxlF"
      },
      "outputs": [],
      "source": [
        "plt.figure(figsize=(12, 4))\n",
        "plt.subplot(1, 2, 1)\n",
        "plt.plot(history.history['loss'], label='Training Loss')\n",
        "plt.plot(history.history['val_loss'], label='Validation Loss')\n",
        "plt.title('Model Loss')\n",
        "plt.xlabel('Epoch')\n",
        "plt.ylabel('Loss')\n",
        "plt.legend()"
      ]
    },
    {
      "cell_type": "code",
      "execution_count": null,
      "metadata": {
        "id": "rtg-obQUPxlF"
      },
      "outputs": [],
      "source": [
        "plt.subplot(1, 2, 2)\n",
        "plt.plot(history.history['mae'], label='Training MAE')\n",
        "plt.plot(history.history['val_mae'], label='Validation MAE')\n",
        "plt.title('Model MAE')\n",
        "plt.xlabel('Epoch')\n",
        "plt.ylabel('MAE')\n",
        "plt.legend()"
      ]
    },
    {
      "cell_type": "code",
      "execution_count": null,
      "metadata": {
        "id": "g4aLkHWIPxlF"
      },
      "outputs": [],
      "source": [
        "plt.tight_layout()\n",
        "plt.savefig(os.path.join(SAVE_PATH, 'training_metrics.png'))\n",
        "plt.close()"
      ]
    },
    {
      "cell_type": "markdown",
      "metadata": {
        "id": "h7Q9TkmyPxlF"
      },
      "source": [
        "Save model and history<br>\n",
        "Modified save paths"
      ]
    },
    {
      "cell_type": "code",
      "execution_count": null,
      "metadata": {
        "id": "r2Y29J6UPxlG"
      },
      "outputs": [],
      "source": [
        "model.save(os.path.join(SAVE_PATH, 'efficientnet_anomaly_model.keras'))\n",
        "np.save(os.path.join(SAVE_PATH, 'training_history.npy'), history.history)"
      ]
    },
    {
      "cell_type": "code",
      "execution_count": null,
      "metadata": {
        "id": "EipZam0dPxlG"
      },
      "outputs": [],
      "source": [
        "print(\"Training completed and model saved!\")"
      ]
    }
  ],
  "metadata": {
    "kernelspec": {
      "display_name": "Python 3",
      "language": "python",
      "name": "python3"
    },
    "language_info": {
      "codemirror_mode": {
        "name": "ipython",
        "version": 3
      },
      "file_extension": ".py",
      "mimetype": "text/x-python",
      "name": "python",
      "nbconvert_exporter": "python",
      "pygments_lexer": "ipython3",
      "version": "3.6.4"
    },
    "colab": {
      "provenance": [],
      "include_colab_link": true
    }
  },
  "nbformat": 4,
  "nbformat_minor": 0
}