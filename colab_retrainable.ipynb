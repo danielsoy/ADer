{
  "cells": [
    {
      "cell_type": "markdown",
      "metadata": {
        "id": "view-in-github",
        "colab_type": "text"
      },
      "source": [
        "<a href=\"https://colab.research.google.com/github/danielsoy/ADer/blob/main/colab_retrainable.ipynb\" target=\"_parent\"><img src=\"https://colab.research.google.com/assets/colab-badge.svg\" alt=\"Open In Colab\"/></a>"
      ]
    },
    {
      "cell_type": "code",
      "execution_count": 21,
      "metadata": {
        "id": "8QpnDsFiMHsl"
      },
      "outputs": [],
      "source": [
        "# -*- coding: utf-8 -*-\n"
      ]
    },
    {
      "cell_type": "code",
      "execution_count": 22,
      "metadata": {
        "id": "1_N8DwRKMHso",
        "colab": {
          "base_uri": "https://localhost:8080/"
        },
        "outputId": "3410889d-fa6c-4b24-a79e-b03b9c6a7ed9"
      },
      "outputs": [
        {
          "output_type": "stream",
          "name": "stdout",
          "text": [
            "fatal: destination path 'anodet' already exists and is not an empty directory.\n"
          ]
        }
      ],
      "source": [
        "!git clone https://github.com/OpenAOI/anodet.git"
      ]
    },
    {
      "cell_type": "code",
      "execution_count": 23,
      "metadata": {
        "id": "DOVsq4BnMHsp",
        "colab": {
          "base_uri": "https://localhost:8080/"
        },
        "outputId": "cc715900-2fbf-4bb3-a37f-7b5cb9d00a22"
      },
      "outputs": [
        {
          "output_type": "stream",
          "name": "stdout",
          "text": [
            "/content/anodet\n"
          ]
        }
      ],
      "source": [
        "cd /content/anodet"
      ]
    },
    {
      "cell_type": "code",
      "execution_count": 24,
      "metadata": {
        "colab": {
          "base_uri": "https://localhost:8080/"
        },
        "id": "UGIaSFXyMHsp",
        "outputId": "46190e4e-4f5f-4294-9a58-d72c586525b8"
      },
      "outputs": [
        {
          "output_type": "stream",
          "name": "stdout",
          "text": [
            "Requirement already satisfied: matplotlib>=3.5.0 in /usr/local/lib/python3.11/dist-packages (from -r requirements.txt (line 1)) (3.10.0)\n",
            "Requirement already satisfied: numpy>=1.17.4 in /usr/local/lib/python3.11/dist-packages (from -r requirements.txt (line 2)) (2.0.2)\n",
            "Requirement already satisfied: opencv_python>=4.5.4.60 in /usr/local/lib/python3.11/dist-packages (from -r requirements.txt (line 3)) (4.11.0.86)\n",
            "Requirement already satisfied: Pillow>=8.4.0 in /usr/local/lib/python3.11/dist-packages (from -r requirements.txt (line 4)) (11.2.1)\n",
            "Requirement already satisfied: scikit_image>=0.18.3 in /usr/local/lib/python3.11/dist-packages (from -r requirements.txt (line 5)) (0.25.2)\n",
            "Requirement already satisfied: scikit_learn>=1.0.1 in /usr/local/lib/python3.11/dist-packages (from -r requirements.txt (line 6)) (1.6.1)\n",
            "Requirement already satisfied: scipy>=1.7.3 in /usr/local/lib/python3.11/dist-packages (from -r requirements.txt (line 7)) (1.15.2)\n",
            "Requirement already satisfied: setuptools>=45.2.0 in /usr/local/lib/python3.11/dist-packages (from -r requirements.txt (line 8)) (75.2.0)\n",
            "Requirement already satisfied: torch>=1.10.0 in /usr/local/lib/python3.11/dist-packages (from -r requirements.txt (line 9)) (2.6.0+cu124)\n",
            "Requirement already satisfied: torchvision>=0.11.1 in /usr/local/lib/python3.11/dist-packages (from -r requirements.txt (line 10)) (0.21.0+cu124)\n",
            "Requirement already satisfied: tqdm>=4.62.3 in /usr/local/lib/python3.11/dist-packages (from -r requirements.txt (line 11)) (4.67.1)\n",
            "Requirement already satisfied: contourpy>=1.0.1 in /usr/local/lib/python3.11/dist-packages (from matplotlib>=3.5.0->-r requirements.txt (line 1)) (1.3.2)\n",
            "Requirement already satisfied: cycler>=0.10 in /usr/local/lib/python3.11/dist-packages (from matplotlib>=3.5.0->-r requirements.txt (line 1)) (0.12.1)\n",
            "Requirement already satisfied: fonttools>=4.22.0 in /usr/local/lib/python3.11/dist-packages (from matplotlib>=3.5.0->-r requirements.txt (line 1)) (4.57.0)\n",
            "Requirement already satisfied: kiwisolver>=1.3.1 in /usr/local/lib/python3.11/dist-packages (from matplotlib>=3.5.0->-r requirements.txt (line 1)) (1.4.8)\n",
            "Requirement already satisfied: packaging>=20.0 in /usr/local/lib/python3.11/dist-packages (from matplotlib>=3.5.0->-r requirements.txt (line 1)) (24.2)\n",
            "Requirement already satisfied: pyparsing>=2.3.1 in /usr/local/lib/python3.11/dist-packages (from matplotlib>=3.5.0->-r requirements.txt (line 1)) (3.2.3)\n",
            "Requirement already satisfied: python-dateutil>=2.7 in /usr/local/lib/python3.11/dist-packages (from matplotlib>=3.5.0->-r requirements.txt (line 1)) (2.9.0.post0)\n",
            "Requirement already satisfied: networkx>=3.0 in /usr/local/lib/python3.11/dist-packages (from scikit_image>=0.18.3->-r requirements.txt (line 5)) (3.4.2)\n",
            "Requirement already satisfied: imageio!=2.35.0,>=2.33 in /usr/local/lib/python3.11/dist-packages (from scikit_image>=0.18.3->-r requirements.txt (line 5)) (2.37.0)\n",
            "Requirement already satisfied: tifffile>=2022.8.12 in /usr/local/lib/python3.11/dist-packages (from scikit_image>=0.18.3->-r requirements.txt (line 5)) (2025.3.30)\n",
            "Requirement already satisfied: lazy-loader>=0.4 in /usr/local/lib/python3.11/dist-packages (from scikit_image>=0.18.3->-r requirements.txt (line 5)) (0.4)\n",
            "Requirement already satisfied: joblib>=1.2.0 in /usr/local/lib/python3.11/dist-packages (from scikit_learn>=1.0.1->-r requirements.txt (line 6)) (1.4.2)\n",
            "Requirement already satisfied: threadpoolctl>=3.1.0 in /usr/local/lib/python3.11/dist-packages (from scikit_learn>=1.0.1->-r requirements.txt (line 6)) (3.6.0)\n",
            "Requirement already satisfied: filelock in /usr/local/lib/python3.11/dist-packages (from torch>=1.10.0->-r requirements.txt (line 9)) (3.18.0)\n",
            "Requirement already satisfied: typing-extensions>=4.10.0 in /usr/local/lib/python3.11/dist-packages (from torch>=1.10.0->-r requirements.txt (line 9)) (4.13.2)\n",
            "Requirement already satisfied: jinja2 in /usr/local/lib/python3.11/dist-packages (from torch>=1.10.0->-r requirements.txt (line 9)) (3.1.6)\n",
            "Requirement already satisfied: fsspec in /usr/local/lib/python3.11/dist-packages (from torch>=1.10.0->-r requirements.txt (line 9)) (2025.3.2)\n",
            "Requirement already satisfied: nvidia-cuda-nvrtc-cu12==12.4.127 in /usr/local/lib/python3.11/dist-packages (from torch>=1.10.0->-r requirements.txt (line 9)) (12.4.127)\n",
            "Requirement already satisfied: nvidia-cuda-runtime-cu12==12.4.127 in /usr/local/lib/python3.11/dist-packages (from torch>=1.10.0->-r requirements.txt (line 9)) (12.4.127)\n",
            "Requirement already satisfied: nvidia-cuda-cupti-cu12==12.4.127 in /usr/local/lib/python3.11/dist-packages (from torch>=1.10.0->-r requirements.txt (line 9)) (12.4.127)\n",
            "Requirement already satisfied: nvidia-cudnn-cu12==9.1.0.70 in /usr/local/lib/python3.11/dist-packages (from torch>=1.10.0->-r requirements.txt (line 9)) (9.1.0.70)\n",
            "Requirement already satisfied: nvidia-cublas-cu12==12.4.5.8 in /usr/local/lib/python3.11/dist-packages (from torch>=1.10.0->-r requirements.txt (line 9)) (12.4.5.8)\n",
            "Requirement already satisfied: nvidia-cufft-cu12==11.2.1.3 in /usr/local/lib/python3.11/dist-packages (from torch>=1.10.0->-r requirements.txt (line 9)) (11.2.1.3)\n",
            "Requirement already satisfied: nvidia-curand-cu12==10.3.5.147 in /usr/local/lib/python3.11/dist-packages (from torch>=1.10.0->-r requirements.txt (line 9)) (10.3.5.147)\n",
            "Requirement already satisfied: nvidia-cusolver-cu12==11.6.1.9 in /usr/local/lib/python3.11/dist-packages (from torch>=1.10.0->-r requirements.txt (line 9)) (11.6.1.9)\n",
            "Requirement already satisfied: nvidia-cusparse-cu12==12.3.1.170 in /usr/local/lib/python3.11/dist-packages (from torch>=1.10.0->-r requirements.txt (line 9)) (12.3.1.170)\n",
            "Requirement already satisfied: nvidia-cusparselt-cu12==0.6.2 in /usr/local/lib/python3.11/dist-packages (from torch>=1.10.0->-r requirements.txt (line 9)) (0.6.2)\n",
            "Requirement already satisfied: nvidia-nccl-cu12==2.21.5 in /usr/local/lib/python3.11/dist-packages (from torch>=1.10.0->-r requirements.txt (line 9)) (2.21.5)\n",
            "Requirement already satisfied: nvidia-nvtx-cu12==12.4.127 in /usr/local/lib/python3.11/dist-packages (from torch>=1.10.0->-r requirements.txt (line 9)) (12.4.127)\n",
            "Requirement already satisfied: nvidia-nvjitlink-cu12==12.4.127 in /usr/local/lib/python3.11/dist-packages (from torch>=1.10.0->-r requirements.txt (line 9)) (12.4.127)\n",
            "Requirement already satisfied: triton==3.2.0 in /usr/local/lib/python3.11/dist-packages (from torch>=1.10.0->-r requirements.txt (line 9)) (3.2.0)\n",
            "Requirement already satisfied: sympy==1.13.1 in /usr/local/lib/python3.11/dist-packages (from torch>=1.10.0->-r requirements.txt (line 9)) (1.13.1)\n",
            "Requirement already satisfied: mpmath<1.4,>=1.1.0 in /usr/local/lib/python3.11/dist-packages (from sympy==1.13.1->torch>=1.10.0->-r requirements.txt (line 9)) (1.3.0)\n",
            "Requirement already satisfied: six>=1.5 in /usr/local/lib/python3.11/dist-packages (from python-dateutil>=2.7->matplotlib>=3.5.0->-r requirements.txt (line 1)) (1.17.0)\n",
            "Requirement already satisfied: MarkupSafe>=2.0 in /usr/local/lib/python3.11/dist-packages (from jinja2->torch>=1.10.0->-r requirements.txt (line 9)) (3.0.2)\n"
          ]
        }
      ],
      "source": [
        "pip install -r requirements.txt"
      ]
    },
    {
      "cell_type": "code",
      "execution_count": 25,
      "metadata": {
        "id": "k8mnGztLMHsp"
      },
      "outputs": [],
      "source": [
        "import os\n",
        "import torch\n",
        "import torch.nn as nn\n",
        "import numpy as np\n",
        "from torch.utils.data import DataLoader\n",
        "from torchvision.models import resnet18\n",
        "from torchvision import transforms\n",
        "from tqdm import tqdm\n",
        "#import anodet\n",
        "from torch.optim.lr_scheduler import MultiStepLR"
      ]
    },
    {
      "cell_type": "code",
      "execution_count": 26,
      "metadata": {
        "colab": {
          "base_uri": "https://localhost:8080/"
        },
        "id": "mM2wRx6XMHsq",
        "outputId": "0214ff3c-9495-4ba2-f60e-8590435cc22d"
      },
      "outputs": [
        {
          "output_type": "stream",
          "name": "stdout",
          "text": [
            "/content/anodet/anodet\n"
          ]
        }
      ],
      "source": [
        "cd /content/anodet/anodet"
      ]
    },
    {
      "cell_type": "code",
      "execution_count": 27,
      "metadata": {
        "id": "zg8ahOM5MHsq"
      },
      "outputs": [],
      "source": [
        "import anodet"
      ]
    },
    {
      "cell_type": "code",
      "execution_count": 28,
      "metadata": {
        "colab": {
          "base_uri": "https://localhost:8080/"
        },
        "id": "Wihu82wDMHsq",
        "outputId": "4d3acfaf-55f4-42ba-fc98-2a0015c121a1"
      },
      "outputs": [
        {
          "output_type": "stream",
          "name": "stdout",
          "text": [
            "Drive already mounted at /content/drive; to attempt to forcibly remount, call drive.mount(\"/content/drive\", force_remount=True).\n"
          ]
        }
      ],
      "source": [
        "from google.colab import drive\n",
        "drive.mount('/content/drive')"
      ]
    },
    {
      "cell_type": "code",
      "execution_count": 29,
      "metadata": {
        "id": "SkCLkZJvMHsr"
      },
      "outputs": [],
      "source": [
        "local=False # train model with local dataset if true. train from colab mydrive if not."
      ]
    },
    {
      "cell_type": "code",
      "execution_count": 30,
      "metadata": {
        "id": "DPPrujRlMHsr"
      },
      "outputs": [],
      "source": [
        "if local:\n",
        "    # Setup local paths\n",
        "    DATASET_PATH = r\"C:\\anodet\\notebooks\\video_pro\\working folder\\indexed4augmet\\datasets\\DATASET A\"\n",
        "    MODEL_SAVE_PATH = \"./trained_backbone.pth\"\n",
        "else:\n",
        "    # Setup mydrive colab paths\n",
        "    DATASET_PATH    = os.path.realpath(\"/content/drive/MyDrive/DATASET A\")\n",
        "    MODEL_SAVE_PATH = os.path.realpath(\"/content/drive/MyDrive/DATASET A MODEL\")"
      ]
    },
    {
      "cell_type": "code",
      "execution_count": 31,
      "metadata": {
        "id": "hJ-slv2NMHsr"
      },
      "outputs": [],
      "source": [
        "IMAGE_SIZE = 224  # Original ResNet training size\n",
        "BATCH_SIZE = 16  # Fixed batch size"
      ]
    },
    {
      "cell_type": "code",
      "source": [
        "device = torch.device('cuda' if torch.cuda.is_available() else 'cpu')\n",
        "print(f\"Using device: {device}\")"
      ],
      "metadata": {
        "colab": {
          "base_uri": "https://localhost:8080/"
        },
        "id": "WKaxZXRr3LRx",
        "outputId": "526e2938-4c72-4309-b4fe-0c5d0be42bda"
      },
      "execution_count": 32,
      "outputs": [
        {
          "output_type": "stream",
          "name": "stdout",
          "text": [
            "Using device: cuda\n"
          ]
        }
      ]
    },
    {
      "cell_type": "markdown",
      "metadata": {
        "id": "HZV-FlJ1MHsr"
      },
      "source": [
        "\n",
        "Setup device\n",
        "<br>\n",
        "device = torch.device('cuda' if torch.cuda.is_available() else 'cpu')<br>\n",
        "print(f\"Using device: {device}\")<br>\n",
        "# /content/anodet/anodet/datasets/dataset.py<br>\n",
        "ustom dataset with resizing\n"
      ]
    },
    {
      "cell_type": "code",
      "execution_count": 33,
      "metadata": {
        "colab": {
          "base_uri": "https://localhost:8080/"
        },
        "id": "w-lSo5rbMHss",
        "outputId": "69a634d6-3669-4d0d-de6a-f19b20c2e7b8"
      },
      "outputs": [
        {
          "output_type": "stream",
          "name": "stdout",
          "text": [
            "/content/anodet\n"
          ]
        }
      ],
      "source": [
        "cd /content/anodet"
      ]
    },
    {
      "cell_type": "markdown",
      "metadata": {
        "id": "pWR3pJ01MHss"
      },
      "source": [
        "rom anodet import anodet"
      ]
    },
    {
      "cell_type": "markdown",
      "metadata": {
        "id": "A3R3qMVmMHss"
      },
      "source": [
        "rom anodet.anodet import datasets"
      ]
    },
    {
      "cell_type": "markdown",
      "metadata": {
        "id": "pQZdmIQxMHst"
      },
      "source": [
        "rom anodet.anodet.datasets import dataset"
      ]
    },
    {
      "cell_type": "code",
      "execution_count": 34,
      "metadata": {
        "id": "Aa7aGadFMHst"
      },
      "outputs": [],
      "source": [
        "from anodet.anodet.datasets.dataset import AnodetDataset\n",
        "#    folder floder floder   .py script     clase."
      ]
    },
    {
      "cell_type": "code",
      "execution_count": 35,
      "metadata": {
        "id": "TAk6CkbIMHst"
      },
      "outputs": [],
      "source": [
        "class ResNetDataset(AnodetDataset):\n",
        "    def __init__(self, root_dir):\n",
        "        super().__init__(root_dir)\n",
        "        self.transform = transforms.Compose([\n",
        "            transforms.ToPILImage(),\n",
        "            transforms.Resize((IMAGE_SIZE, IMAGE_SIZE)),  # Standard ResNet size\n",
        "            transforms.ToTensor(),\n",
        "            transforms.Normalize(\n",
        "                mean=[0.485, 0.456, 0.406],  # ImageNet normalization\n",
        "                std=[0.229, 0.224, 0.225]\n",
        "            )\n",
        "        ])\n",
        "    def __getitem__(self, index):\n",
        "        img, label, mask = super().__getitem__(index)\n",
        "        if isinstance(img, np.ndarray):\n",
        "            img = self.transform(img)\n",
        "        return img, label, mask"
      ]
    },
    {
      "cell_type": "code",
      "execution_count": 36,
      "metadata": {
        "id": "80V2ZipMMHst"
      },
      "outputs": [],
      "source": [
        "def calculate_feature_loss(features):\n",
        "    loss = 0\n",
        "    weights = [0.1, 0.2, 0.3, 0.4]\n",
        "    for feat, weight in zip(features, weights):\n",
        "        b, c, h, w = feat.shape\n",
        "        feat_reshaped = feat.view(b, c, -1)\n",
        "        feat_norm = feat_reshaped / (torch.norm(feat_reshaped, dim=2, keepdim=True) + 1e-10)\n",
        "        similarity = torch.bmm(feat_norm, feat_norm.transpose(1, 2))\n",
        "        target = torch.eye(c, device=device).unsqueeze(0).expand(b, -1, -1)\n",
        "        loss += weight * torch.mean((similarity - target) ** 2)\n",
        "    return loss"
      ]
    },
    {
      "cell_type": "code",
      "execution_count": 37,
      "metadata": {
        "id": "4NUVokevMHst"
      },
      "outputs": [],
      "source": [
        "def train_resnet_backbone(\n",
        "    dataloader: DataLoader,\n",
        "    num_epochs: int = 200,  # Original ResNet epochs\n",
        "    initial_lr: float = 0.075,  # Original ResNet learning rate\n",
        "    continue_training: bool = False  # New parameter\n",
        "):\n",
        "    model = resnet18(weights=None)\n",
        "\n",
        "    # Load previous model if continuing training\n",
        "    if continue_training:\n",
        "        try:\n",
        "            # Try to load the best model first\n",
        "            model.load_state_dict(torch.load(MODEL_SAVE_PATH + '.best'))\n",
        "            print(f\"Loaded best model from {MODEL_SAVE_PATH}.best\")\n",
        "        except:\n",
        "            # Fall back to the last saved model\n",
        "            model.load_state_dict(torch.load(MODEL_SAVE_PATH))\n",
        "            print(f\"Loaded last saved model from {MODEL_SAVE_PATH}\")\n",
        "\n",
        "    model = model.to(device)\n",
        "\n",
        "    # Original ResNet optimizer settings\n",
        "    optimizer = torch.optim.SGD(\n",
        "        model.parameters(),\n",
        "        lr=initial_lr,\n",
        "        momentum=0.9,\n",
        "        weight_decay=0.0001\n",
        "    )\n",
        "\n",
        "    # Original ResNet learning rate schedule\n",
        "    milestones = [30, 60]  # Original ResNet milestones\n",
        "    scheduler = MultiStepLR(  # Fixed MultiStepLR usage\n",
        "        optimizer,\n",
        "        milestones=milestones,\n",
        "        gamma=0.1\n",
        "    )\n",
        "    best_loss = float('inf')\n",
        "    patience_counter = 0\n",
        "    print(\"Training settings:\")\n",
        "    print(f\"Image size: {IMAGE_SIZE}x{IMAGE_SIZE}\")\n",
        "    print(f\"Batch size: {BATCH_SIZE}\")\n",
        "    print(f\"Initial LR: {initial_lr}\")\n",
        "    print(f\"LR milestones: {milestones}\")\n",
        "    print(f\"Epochs: {num_epochs}\")\n",
        "    for epoch in range(num_epochs):\n",
        "        model.train()\n",
        "        running_loss = 0.0\n",
        "        for images, _, _ in tqdm(dataloader, desc=f'Epoch {epoch+1}/{num_epochs}'):\n",
        "            images = images.to(device)\n",
        "\n",
        "            # Extract features\n",
        "            features = []\n",
        "            x = model.conv1(images)\n",
        "            x = model.bn1(x)\n",
        "            x = model.relu(x)\n",
        "            x = model.maxpool(x)\n",
        "            x = model.layer1(x)\n",
        "            features.append(x)\n",
        "            x = model.layer2(x)\n",
        "            features.append(x)\n",
        "            x = model.layer3(x)\n",
        "            features.append(x)\n",
        "            x = model.layer4(x)\n",
        "            features.append(x)\n",
        "            loss = calculate_feature_loss(features)\n",
        "            optimizer.zero_grad()\n",
        "            loss.backward()\n",
        "            optimizer.step()\n",
        "            running_loss += loss.item()\n",
        "        epoch_loss = running_loss / len(dataloader)\n",
        "        current_lr = optimizer.param_groups[0]['lr']\n",
        "        print(f'Epoch [{epoch+1}/{num_epochs}], Loss: {epoch_loss:.6f}, LR: {current_lr:.6f}')\n",
        "        scheduler.step()\n",
        "        if epoch_loss < best_loss:\n",
        "            best_loss = epoch_loss\n",
        "            patience_counter = 0\n",
        "            print(f\"New best loss: {best_loss:.6f}\")\n",
        "            torch.save(model.state_dict(), MODEL_SAVE_PATH + '.best')\n",
        "        else:\n",
        "            patience_counter += 1\n",
        "            if patience_counter >= 20:  # Increased patience\n",
        "                print(\"Early stopping triggered\")\n",
        "                break\n",
        "    return model"
      ]
    },
    {
      "cell_type": "code",
      "source": [
        "# set variable:continue_training=True if .best model already exist in mydrive.\n",
        "# y set device to T4 gpu, not CPU."
      ],
      "metadata": {
        "id": "axjsIzjGPLf-"
      },
      "execution_count": 38,
      "outputs": []
    },
    {
      "cell_type": "code",
      "execution_count": 39,
      "metadata": {
        "colab": {
          "base_uri": "https://localhost:8080/"
        },
        "id": "jM1YMre4MHsu",
        "outputId": "e9b67c41-e3f5-4b50-a486-9f004b3c8ab7"
      },
      "outputs": [
        {
          "output_type": "stream",
          "name": "stdout",
          "text": [
            "Number of training images: 5472\n",
            "Loaded best model from /content/drive/MyDrive/DATASET A MODEL.best\n",
            "Training settings:\n",
            "Image size: 224x224\n",
            "Batch size: 16\n",
            "Initial LR: 0.075\n",
            "LR milestones: [30, 60]\n",
            "Epochs: 200\n"
          ]
        },
        {
          "output_type": "stream",
          "name": "stderr",
          "text": [
            "Epoch 1/200: 100%|██████████| 342/342 [02:19<00:00,  2.46it/s]\n"
          ]
        },
        {
          "output_type": "stream",
          "name": "stdout",
          "text": [
            "Epoch [1/200], Loss: 0.012916, LR: 0.075000\n",
            "New best loss: 0.012916\n"
          ]
        },
        {
          "output_type": "stream",
          "name": "stderr",
          "text": [
            "Epoch 2/200: 100%|██████████| 342/342 [00:33<00:00, 10.16it/s]\n"
          ]
        },
        {
          "output_type": "stream",
          "name": "stdout",
          "text": [
            "Epoch [2/200], Loss: 0.012541, LR: 0.075000\n",
            "New best loss: 0.012541\n"
          ]
        },
        {
          "output_type": "stream",
          "name": "stderr",
          "text": [
            "Epoch 3/200: 100%|██████████| 342/342 [00:34<00:00,  9.99it/s]\n"
          ]
        },
        {
          "output_type": "stream",
          "name": "stdout",
          "text": [
            "Epoch [3/200], Loss: 0.012265, LR: 0.075000\n",
            "New best loss: 0.012265\n"
          ]
        },
        {
          "output_type": "stream",
          "name": "stderr",
          "text": [
            "Epoch 4/200: 100%|██████████| 342/342 [00:32<00:00, 10.68it/s]\n"
          ]
        },
        {
          "output_type": "stream",
          "name": "stdout",
          "text": [
            "Epoch [4/200], Loss: 0.011990, LR: 0.075000\n",
            "New best loss: 0.011990\n"
          ]
        },
        {
          "output_type": "stream",
          "name": "stderr",
          "text": [
            "Epoch 5/200: 100%|██████████| 342/342 [00:32<00:00, 10.52it/s]\n"
          ]
        },
        {
          "output_type": "stream",
          "name": "stdout",
          "text": [
            "Epoch [5/200], Loss: 0.011726, LR: 0.075000\n",
            "New best loss: 0.011726\n"
          ]
        },
        {
          "output_type": "stream",
          "name": "stderr",
          "text": [
            "Epoch 6/200: 100%|██████████| 342/342 [00:33<00:00, 10.25it/s]\n"
          ]
        },
        {
          "output_type": "stream",
          "name": "stdout",
          "text": [
            "Epoch [6/200], Loss: 0.011423, LR: 0.075000\n",
            "New best loss: 0.011423\n"
          ]
        },
        {
          "output_type": "stream",
          "name": "stderr",
          "text": [
            "Epoch 7/200: 100%|██████████| 342/342 [00:32<00:00, 10.63it/s]\n"
          ]
        },
        {
          "output_type": "stream",
          "name": "stdout",
          "text": [
            "Epoch [7/200], Loss: 0.011207, LR: 0.075000\n",
            "New best loss: 0.011207\n"
          ]
        },
        {
          "output_type": "stream",
          "name": "stderr",
          "text": [
            "Epoch 8/200: 100%|██████████| 342/342 [00:33<00:00, 10.19it/s]\n"
          ]
        },
        {
          "output_type": "stream",
          "name": "stdout",
          "text": [
            "Epoch [8/200], Loss: 0.010882, LR: 0.075000\n",
            "New best loss: 0.010882\n"
          ]
        },
        {
          "output_type": "stream",
          "name": "stderr",
          "text": [
            "Epoch 9/200: 100%|██████████| 342/342 [00:32<00:00, 10.67it/s]\n"
          ]
        },
        {
          "output_type": "stream",
          "name": "stdout",
          "text": [
            "Epoch [9/200], Loss: 0.010652, LR: 0.075000\n",
            "New best loss: 0.010652\n"
          ]
        },
        {
          "output_type": "stream",
          "name": "stderr",
          "text": [
            "Epoch 10/200: 100%|██████████| 342/342 [00:32<00:00, 10.54it/s]\n"
          ]
        },
        {
          "output_type": "stream",
          "name": "stdout",
          "text": [
            "Epoch [10/200], Loss: 0.010450, LR: 0.075000\n",
            "New best loss: 0.010450\n"
          ]
        },
        {
          "output_type": "stream",
          "name": "stderr",
          "text": [
            "Epoch 11/200: 100%|██████████| 342/342 [00:33<00:00, 10.10it/s]\n"
          ]
        },
        {
          "output_type": "stream",
          "name": "stdout",
          "text": [
            "Epoch [11/200], Loss: 0.010395, LR: 0.075000\n",
            "New best loss: 0.010395\n"
          ]
        },
        {
          "output_type": "stream",
          "name": "stderr",
          "text": [
            "Epoch 12/200: 100%|██████████| 342/342 [00:32<00:00, 10.64it/s]\n"
          ]
        },
        {
          "output_type": "stream",
          "name": "stdout",
          "text": [
            "Epoch [12/200], Loss: 0.010239, LR: 0.075000\n",
            "New best loss: 0.010239\n"
          ]
        },
        {
          "output_type": "stream",
          "name": "stderr",
          "text": [
            "Epoch 13/200: 100%|██████████| 342/342 [00:32<00:00, 10.53it/s]\n"
          ]
        },
        {
          "output_type": "stream",
          "name": "stdout",
          "text": [
            "Epoch [13/200], Loss: 0.010131, LR: 0.075000\n",
            "New best loss: 0.010131\n"
          ]
        },
        {
          "output_type": "stream",
          "name": "stderr",
          "text": [
            "Epoch 14/200: 100%|██████████| 342/342 [00:33<00:00, 10.20it/s]\n"
          ]
        },
        {
          "output_type": "stream",
          "name": "stdout",
          "text": [
            "Epoch [14/200], Loss: 0.010120, LR: 0.075000\n",
            "New best loss: 0.010120\n"
          ]
        },
        {
          "output_type": "stream",
          "name": "stderr",
          "text": [
            "Epoch 15/200: 100%|██████████| 342/342 [00:32<00:00, 10.48it/s]\n"
          ]
        },
        {
          "output_type": "stream",
          "name": "stdout",
          "text": [
            "Epoch [15/200], Loss: 0.010026, LR: 0.075000\n",
            "New best loss: 0.010026\n"
          ]
        },
        {
          "output_type": "stream",
          "name": "stderr",
          "text": [
            "Epoch 16/200: 100%|██████████| 342/342 [00:34<00:00, 10.01it/s]\n"
          ]
        },
        {
          "output_type": "stream",
          "name": "stdout",
          "text": [
            "Epoch [16/200], Loss: 0.010012, LR: 0.075000\n",
            "New best loss: 0.010012\n"
          ]
        },
        {
          "output_type": "stream",
          "name": "stderr",
          "text": [
            "Epoch 17/200: 100%|██████████| 342/342 [00:32<00:00, 10.45it/s]\n"
          ]
        },
        {
          "output_type": "stream",
          "name": "stdout",
          "text": [
            "Epoch [17/200], Loss: 0.012771, LR: 0.075000\n"
          ]
        },
        {
          "output_type": "stream",
          "name": "stderr",
          "text": [
            "Epoch 18/200: 100%|██████████| 342/342 [00:31<00:00, 10.93it/s]\n"
          ]
        },
        {
          "output_type": "stream",
          "name": "stdout",
          "text": [
            "Epoch [18/200], Loss: 0.011666, LR: 0.075000\n"
          ]
        },
        {
          "output_type": "stream",
          "name": "stderr",
          "text": [
            "Epoch 19/200: 100%|██████████| 342/342 [00:32<00:00, 10.63it/s]\n"
          ]
        },
        {
          "output_type": "stream",
          "name": "stdout",
          "text": [
            "Epoch [19/200], Loss: 0.010811, LR: 0.075000\n"
          ]
        },
        {
          "output_type": "stream",
          "name": "stderr",
          "text": [
            "Epoch 20/200: 100%|██████████| 342/342 [00:30<00:00, 11.04it/s]\n"
          ]
        },
        {
          "output_type": "stream",
          "name": "stdout",
          "text": [
            "Epoch [20/200], Loss: 0.012829, LR: 0.075000\n"
          ]
        },
        {
          "output_type": "stream",
          "name": "stderr",
          "text": [
            "Epoch 21/200: 100%|██████████| 342/342 [00:31<00:00, 10.99it/s]\n"
          ]
        },
        {
          "output_type": "stream",
          "name": "stdout",
          "text": [
            "Epoch [21/200], Loss: 0.011285, LR: 0.075000\n"
          ]
        },
        {
          "output_type": "stream",
          "name": "stderr",
          "text": [
            "Epoch 22/200: 100%|██████████| 342/342 [00:31<00:00, 10.88it/s]\n"
          ]
        },
        {
          "output_type": "stream",
          "name": "stdout",
          "text": [
            "Epoch [22/200], Loss: 0.011300, LR: 0.075000\n"
          ]
        },
        {
          "output_type": "stream",
          "name": "stderr",
          "text": [
            "Epoch 23/200: 100%|██████████| 342/342 [00:32<00:00, 10.53it/s]\n"
          ]
        },
        {
          "output_type": "stream",
          "name": "stdout",
          "text": [
            "Epoch [23/200], Loss: 0.011100, LR: 0.075000\n"
          ]
        },
        {
          "output_type": "stream",
          "name": "stderr",
          "text": [
            "Epoch 24/200: 100%|██████████| 342/342 [00:31<00:00, 10.91it/s]\n"
          ]
        },
        {
          "output_type": "stream",
          "name": "stdout",
          "text": [
            "Epoch [24/200], Loss: 0.011888, LR: 0.075000\n"
          ]
        },
        {
          "output_type": "stream",
          "name": "stderr",
          "text": [
            "Epoch 25/200: 100%|██████████| 342/342 [00:31<00:00, 10.95it/s]\n"
          ]
        },
        {
          "output_type": "stream",
          "name": "stdout",
          "text": [
            "Epoch [25/200], Loss: 0.011634, LR: 0.075000\n"
          ]
        },
        {
          "output_type": "stream",
          "name": "stderr",
          "text": [
            "Epoch 26/200: 100%|██████████| 342/342 [00:31<00:00, 10.81it/s]\n"
          ]
        },
        {
          "output_type": "stream",
          "name": "stdout",
          "text": [
            "Epoch [26/200], Loss: 0.011135, LR: 0.075000\n"
          ]
        },
        {
          "output_type": "stream",
          "name": "stderr",
          "text": [
            "Epoch 27/200: 100%|██████████| 342/342 [00:32<00:00, 10.52it/s]\n"
          ]
        },
        {
          "output_type": "stream",
          "name": "stdout",
          "text": [
            "Epoch [27/200], Loss: 0.011210, LR: 0.075000\n"
          ]
        },
        {
          "output_type": "stream",
          "name": "stderr",
          "text": [
            "Epoch 28/200: 100%|██████████| 342/342 [00:31<00:00, 11.00it/s]\n"
          ]
        },
        {
          "output_type": "stream",
          "name": "stdout",
          "text": [
            "Epoch [28/200], Loss: 0.011025, LR: 0.075000\n"
          ]
        },
        {
          "output_type": "stream",
          "name": "stderr",
          "text": [
            "Epoch 29/200: 100%|██████████| 342/342 [00:31<00:00, 11.02it/s]\n"
          ]
        },
        {
          "output_type": "stream",
          "name": "stdout",
          "text": [
            "Epoch [29/200], Loss: 0.010811, LR: 0.075000\n"
          ]
        },
        {
          "output_type": "stream",
          "name": "stderr",
          "text": [
            "Epoch 30/200: 100%|██████████| 342/342 [00:31<00:00, 10.69it/s]\n"
          ]
        },
        {
          "output_type": "stream",
          "name": "stdout",
          "text": [
            "Epoch [30/200], Loss: 0.011375, LR: 0.075000\n"
          ]
        },
        {
          "output_type": "stream",
          "name": "stderr",
          "text": [
            "Epoch 31/200: 100%|██████████| 342/342 [00:31<00:00, 10.83it/s]\n"
          ]
        },
        {
          "output_type": "stream",
          "name": "stdout",
          "text": [
            "Epoch [31/200], Loss: 0.011241, LR: 0.007500\n"
          ]
        },
        {
          "output_type": "stream",
          "name": "stderr",
          "text": [
            "Epoch 32/200: 100%|██████████| 342/342 [00:30<00:00, 11.12it/s]\n"
          ]
        },
        {
          "output_type": "stream",
          "name": "stdout",
          "text": [
            "Epoch [32/200], Loss: 0.011175, LR: 0.007500\n"
          ]
        },
        {
          "output_type": "stream",
          "name": "stderr",
          "text": [
            "Epoch 33/200: 100%|██████████| 342/342 [00:31<00:00, 11.02it/s]\n"
          ]
        },
        {
          "output_type": "stream",
          "name": "stdout",
          "text": [
            "Epoch [33/200], Loss: 0.011110, LR: 0.007500\n"
          ]
        },
        {
          "output_type": "stream",
          "name": "stderr",
          "text": [
            "Epoch 34/200: 100%|██████████| 342/342 [00:31<00:00, 10.77it/s]\n"
          ]
        },
        {
          "output_type": "stream",
          "name": "stdout",
          "text": [
            "Epoch [34/200], Loss: 0.011046, LR: 0.007500\n"
          ]
        },
        {
          "output_type": "stream",
          "name": "stderr",
          "text": [
            "Epoch 35/200: 100%|██████████| 342/342 [00:31<00:00, 10.90it/s]\n"
          ]
        },
        {
          "output_type": "stream",
          "name": "stdout",
          "text": [
            "Epoch [35/200], Loss: 0.011027, LR: 0.007500\n"
          ]
        },
        {
          "output_type": "stream",
          "name": "stderr",
          "text": [
            "Epoch 36/200: 100%|██████████| 342/342 [00:30<00:00, 11.11it/s]\n"
          ]
        },
        {
          "output_type": "stream",
          "name": "stdout",
          "text": [
            "Epoch [36/200], Loss: 0.011004, LR: 0.007500\n",
            "Early stopping triggered\n",
            "Saving model to /content/drive/MyDrive/DATASET A MODEL\n",
            "Training completed!\n"
          ]
        }
      ],
      "source": [
        "if __name__ == \"__main__\":\n",
        "    # Create dataset with fixed batch size\n",
        "    dataset = ResNetDataset(DATASET_PATH)\n",
        "    dataloader = DataLoader(\n",
        "        dataset,\n",
        "        batch_size=BATCH_SIZE,  # Using fixed batch size\n",
        "        shuffle=True,\n",
        "        num_workers=4,\n",
        "        pin_memory=True\n",
        "    )\n",
        "    print(f\"Number of training images: {len(dataset)}\")\n",
        "\n",
        "    # To continue training from saved model:\n",
        "    trained_model = train_resnet_backbone(\n",
        "        dataloader,\n",
        "        continue_training=True  # Set to True to load previous model\n",
        "    )\n",
        "\n",
        "    # Save the final model\n",
        "    print(f\"Saving model to {MODEL_SAVE_PATH}\")\n",
        "    torch.save(trained_model.state_dict(), MODEL_SAVE_PATH)\n",
        "    print(\"Training completed!\")"
      ]
    },
    {
      "cell_type": "markdown",
      "metadata": {
        "id": "6806MRxJMHsu"
      },
      "source": [
        "\n",
        "<br>\n",
        "###############################<br>\n",
        "trained_model = train_resnet_backbone(dataloader, continue_training=False)<br>\n",
        "trained_model = train_resnet_backbone(dataloader,  continue_training=True)<br>\n",
        "###############################<br>\n"
      ]
    }
  ],
  "metadata": {
    "kernelspec": {
      "display_name": "Python 3",
      "name": "python3"
    },
    "language_info": {
      "codemirror_mode": {
        "name": "ipython",
        "version": 3
      },
      "file_extension": ".py",
      "mimetype": "text/x-python",
      "name": "python",
      "nbconvert_exporter": "python",
      "pygments_lexer": "ipython3",
      "version": "3.6.4"
    },
    "colab": {
      "provenance": [],
      "gpuType": "T4",
      "include_colab_link": true
    },
    "accelerator": "GPU"
  },
  "nbformat": 4,
  "nbformat_minor": 0
}